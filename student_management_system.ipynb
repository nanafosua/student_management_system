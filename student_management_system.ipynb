{
 "cells": [
  {
   "cell_type": "code",
   "execution_count": 2,
   "id": "1022cc81-f907-409d-99c0-87c3f1ebf9d1",
   "metadata": {},
   "outputs": [],
   "source": [
    "# Student Management System - Captone Project\n",
    "# RITA Africa Python Fundamentals Bootcamp\n",
    "# By: Rose Fosua Kyei\n",
    "\n",
    "# Importing required modules, \n",
    "\n",
    "import os  # interacts with the operating system.\n",
    "import getpass  # for secure password input\n",
    "import datetime  # for timestamps in logs and reports\n",
    "\n",
    "# Storing file paths.\n",
    "# ------------------------------\n",
    "# File paths (must be defined first)\n",
    "# ------------------------------\n",
    "\n",
    "USER_FILE = \"users.txt\"          # Stores usernames and passwords\n",
    "STUDENT_FILE = \"students.txt\"    # Stores student records\n",
    "LOG_FILE = \"activity_log.txt\"    # Stores logs of user activities.\n",
    "\n",
    "\n",
    "# Initialize files: it ensures that all required files exist before running the system\n",
    "# if a file does not exist, it creates an empty file.\n",
    "\n",
    "def initialize_files():\n",
    "    for filename in [USER_FILE, STUDENT_FILE, LOG_FILE]:\n",
    "        if not os.path.exists(filename):\n",
    "            with open(filename, \"w\") as f:\n",
    "                pass  # Create empty file\n",
    "\n",
    "# Run at startup\n",
    "initialize_files()\n",
    "\n",
    "\n",
    "\"\"\" Authenticating system: Logging and loading user functions\n",
    "    Functions are defined to: \n",
    "    Log user activity('log_activity')\n",
    "    Load existing users from file ('load_users')\n",
    "    Save new users ('save_user')\n",
    "    Authenticate login ('authenticate')\n",
    "\"\"\"\n",
    "\n",
    "def log_activity(username, action):\n",
    "    \"\"\"Log user actions with timestamp\"\"\"\n",
    "    with open(LOG_FILE, \"a\") as log:\n",
    "        log.write(f\"{datetime.datetime.now()} - {username} - {action}\\n\")\n",
    "\n",
    "\n",
    "def load_users():\n",
    "    \"\"\"Load users from file into a dictionary\"\"\"\n",
    "    users = {}\n",
    "    if os.path.exists(USER_FILE):\n",
    "        with open(USER_FILE, \"r\") as f:\n",
    "            for line in f:\n",
    "                if \",\" in line:\n",
    "                    uname, pwd = line.strip().split(\",\", 1)\n",
    "                    users[uname] = pwd\n",
    "    return users\n",
    "\n",
    "\n",
    "# Saving User Functions\n",
    "\n",
    "def save_user(username, password):\n",
    "    \"\"\"Save new user to the file\"\"\"\n",
    "    with open(USER_FILE, \"a\") as f:\n",
    "        f.write(f\"{username},{password}\\n\")\n",
    "        \n",
    "\n",
    "# Authenticating user functions\n",
    "\n",
    "def authenticate():\n",
    "    \"\"\"Authenticate user login\"\"\"\n",
    "    users = load_users()\n",
    "    username = input(\"Enter Username: \")\n",
    "    password = getpass.getpass(\"Enter Password: \")\n",
    "\n",
    "    if username in users and users[username] == password:\n",
    "        log_activity(username, \"Logged in\")\n",
    "        print(\"\\n✅ Login Successful!\\n\")\n",
    "        return username\n",
    "    else:\n",
    "        print(\"\\n❌ Invalid credentials!\\n\")\n",
    "        return None\n",
    "    \n"
   ]
  },
  {
   "cell_type": "code",
   "execution_count": null,
   "id": "d7e8e6fc-a875-4683-af13-e77b54946dc1",
   "metadata": {},
   "outputs": [],
   "source": [
    "# Student Data Management (CRUD)\n",
    "# Defining functions to manage student records\n",
    "\n",
    "\n",
    "def add_student(username):                   # Add new student.\n",
    "    roll = input(\"Enter Roll Number: \")\n",
    "    name = input(\"Enter Name: \")\n",
    "    grade = input(\"Enter Grade: \")\n",
    "    with open(STUDENT_FILE, \"a\") as f:\n",
    "        f.write(f\"{roll},{name},{grade}\\n\")\n",
    "        log_activity(username, f\"Added student {roll}\")\n",
    "        print(\"✅ Student added successfully!\")\n",
    "        \n",
    "        \n",
    "# Viewing Student function\n",
    "\n",
    "\n",
    "def view_students():                       # View all student records.\n",
    "    if not os.path.exists(STUDENT_FILE):\n",
    "        print(\"No records found.\")\n",
    "        return\n",
    "\n",
    "    with open(STUDENT_FILE, \"r\") as f:\n",
    "        print(\"\\n--- Student Records ---\")\n",
    "        for line in f:\n",
    "            roll, name, grade = line.strip().split(\",\")\n",
    "            print(f\"Roll: {roll} | Name: {name} | Grade: {grade}\")\n",
    "            \n",
    "# Searching student function\n",
    "\n",
    "\n",
    "def search_student():                     # Search student by roll number.\n",
    "    roll_no = input(\"Enter Roll Number to search: \")\n",
    "    found = False\n",
    "\n",
    "    if os.path.exists(STUDENT_FILE):\n",
    "        with open(STUDENT_FILE, \"r\") as f:\n",
    "            for line in f:\n",
    "                # Skip empty or invalid lines\n",
    "                parts = line.strip().split(\",\")\n",
    "                if len(parts) != 3:\n",
    "                    continue\n",
    "                roll, name, grade = parts\n",
    "                if roll == roll_no:\n",
    "                    print(f\"✅ Found: Roll: {roll} | Name: {name} | Grade:{grade}\")\n",
    "                    found = True\n",
    "                    break\n",
    "    else:\n",
    "        print(\"❌ Student file not found.\")\n",
    "    if not found:\n",
    "        print(\"🔍 No student found with that roll number.\")\n",
    "\n",
    "# Updating student function\n",
    "\n",
    "\n",
    "def update_student(username):                   # Update student details.\n",
    "    roll_no = input(\"Enter Roll Number to update: \")\n",
    "    students = []\n",
    "    updated = False\n",
    "\n",
    "    if os.path.exists(STUDENT_FILE):\n",
    "        with open(STUDENT_FILE, \"r\") as f:\n",
    "            students = f.readlines()\n",
    "\n",
    "        with open(STUDENT_FILE, \"w\") as f:\n",
    "            for line in students:\n",
    "                roll, name, grade = line.strip().split(\",\")\n",
    "                if roll == roll_no:\n",
    "                    print(f\"Current Data → Name: {name}, Grade: {grade}\")\n",
    "                    new_name = input(\"Enter new Name: \")\n",
    "                    new_grade = input(\"Enter new Grade: \")\n",
    "                    f.write(f\"{roll},{new_name},{new_grade}\\n\")\n",
    "                    updated = True\n",
    "                    log_activity(username, f\"Updated student {roll}\")\n",
    "                else:\n",
    "                    f.write(line)\n",
    "\n",
    "    if updated:\n",
    "        print(\"✅ Student record updated.\")\n",
    "    else:\n",
    "        print(\"❌ Student not found.\")\n",
    "\n",
    "# Deleting student function\n",
    "\n",
    "def delete_student(username):        # Delete a student record\n",
    "    roll_no = input(\"Enter Roll Number to delete: \")\n",
    "    students = []\n",
    "    deleted = False\n",
    "\n",
    "    if os.path.exists(STUDENT_FILE):\n",
    "        with open(STUDENT_FILE, \"r\") as f:\n",
    "            students = f.readlines()\n",
    "        with open(STUDENT_FILE, \"w\") as f:\n",
    "            for line in students:\n",
    "                # Skip empty or invalid lines\n",
    "                parts = line.strip().split(\",\")\n",
    "                if len(parts) != 3:\n",
    "                    f.write(line)  # keep invalid lines unchanged\n",
    "                    continue\n",
    "\n",
    "                roll, name, grade = parts\n",
    "                if roll == roll_no:\n",
    "                    deleted = True\n",
    "\n",
    "                    # Log deletion\n",
    "                    log_activity(username, f\"Deleted student {roll}\")\n",
    "                else:\n",
    "                    f.write(line)\n",
    "\n",
    "    if deleted:\n",
    "        print(\"✅ Student record deleted.\")\n",
    "    else:\n",
    "        print(\"❌ Student not found.\")\n",
    "        "
   ]
  },
  {
   "cell_type": "code",
   "execution_count": null,
   "id": "f01aa6e9-a56c-4987-a8d6-652a1501fa7f",
   "metadata": {},
   "outputs": [],
   "source": [
    "# Report Generation.\n",
    "# This function creates a simple report showing:\n",
    "# Total number of students\n",
    "# Count of students per grade\n",
    "\n",
    "\n",
    "def generate_report():\n",
    "    \"\"\" Generate a simple report of student count by grade \"\"\"\n",
    "    if not os.path.exists(STUDENT_FILE):\n",
    "        print(\"No records available.\")\n",
    "        return\n",
    "    total = 0\n",
    "    grades = {}\n",
    "\n",
    "    with open(STUDENT_FILE, \"r\") as f:\n",
    "        for line in f:\n",
    "            roll, name, grade = line.strip().split(\",\")\n",
    "            total += 1\n",
    "            grades[grade] = grades.get(grade, 0) + 1\n",
    "    print(\"\\n📊 Student Report\")\n",
    "    print(f\"Total Students: {total}\")\n",
    "    for g, count in grades.items():\n",
    "        print(f\"Grade {g}: {count} student(s)\")\n"
   ]
  },
  {
   "cell_type": "code",
   "execution_count": 11,
   "id": "a539142f-7143-489f-b4a8-07d1890ebbee",
   "metadata": {},
   "outputs": [
    {
     "name": "stdout",
     "output_type": "stream",
     "text": [
      "===== Student Management System =====\n"
     ]
    },
    {
     "name": "stdin",
     "output_type": "stream",
     "text": [
      "Enter Username:  rose\n",
      "Enter Password:  ········\n"
     ]
    },
    {
     "name": "stdout",
     "output_type": "stream",
     "text": [
      "\n",
      "✅ Login Successful!\n",
      "\n",
      "\n",
      "--- Main Menu ---\n",
      "1. Add Student\n",
      "2. View All Students\n",
      "3. Search Student\n",
      "4. Update Student\n",
      "5. Delete Student\n",
      "6. Generate Report\n",
      "7. Logout & Exit\n"
     ]
    },
    {
     "name": "stdin",
     "output_type": "stream",
     "text": [
      "Enter choice:  1\n",
      "Enter Roll Number:  1\n",
      "Enter Name:  Fosua\n",
      "Enter Grade:  A\n"
     ]
    },
    {
     "name": "stdout",
     "output_type": "stream",
     "text": [
      "✅ Student added successfully!\n",
      "\n",
      "--- Main Menu ---\n",
      "1. Add Student\n",
      "2. View All Students\n",
      "3. Search Student\n",
      "4. Update Student\n",
      "5. Delete Student\n",
      "6. Generate Report\n",
      "7. Logout & Exit\n"
     ]
    },
    {
     "name": "stdin",
     "output_type": "stream",
     "text": [
      "Enter choice:  1\n",
      "Enter Roll Number:  2\n",
      "Enter Name:  Agu\n",
      "Enter Grade:  F\n"
     ]
    },
    {
     "name": "stdout",
     "output_type": "stream",
     "text": [
      "✅ Student added successfully!\n",
      "\n",
      "--- Main Menu ---\n",
      "1. Add Student\n",
      "2. View All Students\n",
      "3. Search Student\n",
      "4. Update Student\n",
      "5. Delete Student\n",
      "6. Generate Report\n",
      "7. Logout & Exit\n"
     ]
    },
    {
     "name": "stdin",
     "output_type": "stream",
     "text": [
      "Enter choice:  1\n",
      "Enter Roll Number:  3\n",
      "Enter Name:  Chinwuba\n",
      "Enter Grade:  C\n"
     ]
    },
    {
     "name": "stdout",
     "output_type": "stream",
     "text": [
      "✅ Student added successfully!\n",
      "\n",
      "--- Main Menu ---\n",
      "1. Add Student\n",
      "2. View All Students\n",
      "3. Search Student\n",
      "4. Update Student\n",
      "5. Delete Student\n",
      "6. Generate Report\n",
      "7. Logout & Exit\n"
     ]
    },
    {
     "name": "stdin",
     "output_type": "stream",
     "text": [
      "Enter choice:  1\n",
      "Enter Roll Number:  1\n",
      "Enter Name:  Stephen\n",
      "Enter Grade:  E\n"
     ]
    },
    {
     "name": "stdout",
     "output_type": "stream",
     "text": [
      "✅ Student added successfully!\n",
      "\n",
      "--- Main Menu ---\n",
      "1. Add Student\n",
      "2. View All Students\n",
      "3. Search Student\n",
      "4. Update Student\n",
      "5. Delete Student\n",
      "6. Generate Report\n",
      "7. Logout & Exit\n"
     ]
    },
    {
     "name": "stdin",
     "output_type": "stream",
     "text": [
      "Enter choice:  1\n",
      "Enter Roll Number:  3\n",
      "Enter Name:  Ben\n",
      "Enter Grade:  A\n"
     ]
    },
    {
     "name": "stdout",
     "output_type": "stream",
     "text": [
      "✅ Student added successfully!\n",
      "\n",
      "--- Main Menu ---\n",
      "1. Add Student\n",
      "2. View All Students\n",
      "3. Search Student\n",
      "4. Update Student\n",
      "5. Delete Student\n",
      "6. Generate Report\n",
      "7. Logout & Exit\n"
     ]
    },
    {
     "name": "stdin",
     "output_type": "stream",
     "text": [
      "Enter choice:  1\n",
      "Enter Roll Number:  3\n",
      "Enter Name:  Kyei\n",
      "Enter Grade:  B\n"
     ]
    },
    {
     "name": "stdout",
     "output_type": "stream",
     "text": [
      "✅ Student added successfully!\n",
      "\n",
      "--- Main Menu ---\n",
      "1. Add Student\n",
      "2. View All Students\n",
      "3. Search Student\n",
      "4. Update Student\n",
      "5. Delete Student\n",
      "6. Generate Report\n",
      "7. Logout & Exit\n"
     ]
    },
    {
     "name": "stdin",
     "output_type": "stream",
     "text": [
      "Enter choice:  2\n"
     ]
    },
    {
     "name": "stdout",
     "output_type": "stream",
     "text": [
      "\n",
      "--- Student Records ---\n",
      "Roll: 1 | Name: Dorcas | Grade: F\n",
      "Roll: 1 | Name: Nana | Grade: A\n",
      "Roll: 2 | Name: Kyei | Grade: C\n",
      "Roll: 1 | Name: Fosua | Grade: A\n",
      "Roll: 2 | Name: Agu | Grade: F\n",
      "Roll: 3 | Name: Chinwuba | Grade: C\n",
      "Roll: 1 | Name: Stephen | Grade: E\n",
      "Roll: 3 | Name: Ben | Grade: A\n",
      "Roll: 3 | Name: Kyei | Grade: B\n",
      "\n",
      "--- Main Menu ---\n",
      "1. Add Student\n",
      "2. View All Students\n",
      "3. Search Student\n",
      "4. Update Student\n",
      "5. Delete Student\n",
      "6. Generate Report\n",
      "7. Logout & Exit\n"
     ]
    },
    {
     "name": "stdin",
     "output_type": "stream",
     "text": [
      "Enter choice:  3\n",
      "Enter Roll Number to search:  3\n"
     ]
    },
    {
     "name": "stdout",
     "output_type": "stream",
     "text": [
      "✅ Found: Roll: 3 | Name: Chinwuba | Grade:C\n",
      "\n",
      "--- Main Menu ---\n",
      "1. Add Student\n",
      "2. View All Students\n",
      "3. Search Student\n",
      "4. Update Student\n",
      "5. Delete Student\n",
      "6. Generate Report\n",
      "7. Logout & Exit\n"
     ]
    },
    {
     "name": "stdin",
     "output_type": "stream",
     "text": [
      "Enter choice:  4\n",
      "Enter Roll Number to update:  1\n"
     ]
    },
    {
     "name": "stdout",
     "output_type": "stream",
     "text": [
      "Current Data → Name: Dorcas, Grade: F\n"
     ]
    },
    {
     "name": "stdin",
     "output_type": "stream",
     "text": [
      "Enter new Name:  SAC\n",
      "Enter new Grade:  A\n"
     ]
    },
    {
     "name": "stdout",
     "output_type": "stream",
     "text": [
      "Current Data → Name: Nana, Grade: A\n"
     ]
    },
    {
     "name": "stdin",
     "output_type": "stream",
     "text": [
      "Enter new Name:  Love\n",
      "Enter new Grade:  A\n"
     ]
    },
    {
     "name": "stdout",
     "output_type": "stream",
     "text": [
      "Current Data → Name: Fosua, Grade: A\n"
     ]
    },
    {
     "name": "stdin",
     "output_type": "stream",
     "text": [
      "Enter new Name:  Joy\n",
      "Enter new Grade:  B\n"
     ]
    },
    {
     "name": "stdout",
     "output_type": "stream",
     "text": [
      "Current Data → Name: Stephen, Grade: E\n"
     ]
    },
    {
     "name": "stdin",
     "output_type": "stream",
     "text": [
      "Enter new Name:  Bless\n",
      "Enter new Grade:  C\n"
     ]
    },
    {
     "name": "stdout",
     "output_type": "stream",
     "text": [
      "✅ Student record updated.\n",
      "\n",
      "--- Main Menu ---\n",
      "1. Add Student\n",
      "2. View All Students\n",
      "3. Search Student\n",
      "4. Update Student\n",
      "5. Delete Student\n",
      "6. Generate Report\n",
      "7. Logout & Exit\n"
     ]
    },
    {
     "name": "stdin",
     "output_type": "stream",
     "text": [
      "Enter choice:  5\n",
      "Enter Roll Number to delete:  1\n"
     ]
    },
    {
     "name": "stdout",
     "output_type": "stream",
     "text": [
      "✅ Student record deleted.\n",
      "\n",
      "--- Main Menu ---\n",
      "1. Add Student\n",
      "2. View All Students\n",
      "3. Search Student\n",
      "4. Update Student\n",
      "5. Delete Student\n",
      "6. Generate Report\n",
      "7. Logout & Exit\n"
     ]
    },
    {
     "name": "stdin",
     "output_type": "stream",
     "text": [
      "Enter choice:  6\n"
     ]
    },
    {
     "name": "stdout",
     "output_type": "stream",
     "text": [
      "\n",
      "📊 Student Report\n",
      "Total Students: 5\n",
      "Grade C: 2 student(s)\n",
      "Grade F: 1 student(s)\n",
      "Grade A: 1 student(s)\n",
      "Grade B: 1 student(s)\n",
      "\n",
      "--- Main Menu ---\n",
      "1. Add Student\n",
      "2. View All Students\n",
      "3. Search Student\n",
      "4. Update Student\n",
      "5. Delete Student\n",
      "6. Generate Report\n",
      "7. Logout & Exit\n"
     ]
    },
    {
     "name": "stdin",
     "output_type": "stream",
     "text": [
      "Enter choice:  7\n"
     ]
    },
    {
     "name": "stdout",
     "output_type": "stream",
     "text": [
      "👋 Goodbye!\n"
     ]
    }
   ],
   "source": [
    "### Main menu.\n",
    "# This function displays the main menu and allows the user to:\n",
    "# Add, view, search, update, and delete students\n",
    "# Generate a report\n",
    "# Logout.\n",
    "\n",
    "def main():\n",
    "    print(\"===== Student Management System =====\")\n",
    "\n",
    "    # Ensure admin user exists\n",
    "    if not os.path.exists(USER_FILE):\n",
    "        print(\"No users found. Create an Admin account.\")\n",
    "        uname = input(\"Set Admin Username: \")\n",
    "        pwd = getpass.getpass(\"Set Admin Password: \")\n",
    "        save_user(uname, pwd)\n",
    "        print(\"✅ Admin created! Please restart the program.\")\n",
    "\n",
    "    username = None\n",
    "    while not username:\n",
    "        username = authenticate()\n",
    "\n",
    "    # Menu\n",
    "    while True:\n",
    "        print(\"\\n--- Main Menu ---\")\n",
    "        print(\"1. Add Student\")\n",
    "        print(\"2. View All Students\")\n",
    "        print(\"3. Search Student\")\n",
    "        print(\"4. Update Student\")\n",
    "        print(\"5. Delete Student\")\n",
    "        print(\"6. Generate Report\")\n",
    "        print(\"7. Logout & Exit\")\n",
    "\n",
    "        choice = input(\"Enter choice: \")\n",
    "\n",
    "        if choice == \"1\":\n",
    "            add_student(username)\n",
    "        elif choice == \"2\":\n",
    "            view_students()\n",
    "        elif choice == \"3\":\n",
    "            search_student()\n",
    "        elif choice == \"4\":\n",
    "            update_student(username)\n",
    "        elif choice == \"5\":\n",
    "            delete_student(username)\n",
    "        elif choice == \"6\":\n",
    "            generate_report()\n",
    "        elif choice == \"7\":\n",
    "            log_activity(username, \"Logged out\")\n",
    "            print(\"👋 Goodbye!\")\n",
    "            break\n",
    "        else:\n",
    "            print(\"❌ Invalid choice! Please try again.\")\n",
    "\n",
    "# This executes the main function when the notebook is run.\n",
    "if __name__ == \"__main__\":\n",
    "    main()"
   ]
  },
  {
   "cell_type": "code",
   "execution_count": null,
   "id": "03e16136-7b80-4885-97ef-1437236b1716",
   "metadata": {},
   "outputs": [],
   "source": []
  }
 ],
 "metadata": {
  "kernelspec": {
   "display_name": "Python 3 (ipykernel)",
   "language": "python",
   "name": "python3"
  },
  "language_info": {
   "codemirror_mode": {
    "name": "ipython",
    "version": 3
   },
   "file_extension": ".py",
   "mimetype": "text/x-python",
   "name": "python",
   "nbconvert_exporter": "python",
   "pygments_lexer": "ipython3",
   "version": "3.12.5"
  }
 },
 "nbformat": 4,
 "nbformat_minor": 5
}
